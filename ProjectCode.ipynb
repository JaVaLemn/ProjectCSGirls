{
 "cells": [
  {
   "cell_type": "markdown",
   "id": "bcef8871",
   "metadata": {},
   "source": [
    "# Project Code\n",
    "\n",
    "### Katie and Kristen's Code for ProjectCSGirls 2022"
   ]
  },
  {
   "cell_type": "code",
   "execution_count": 12,
   "id": "3c9595b4",
   "metadata": {},
   "outputs": [],
   "source": [
    "#Import libraries for use throughout our code\n",
    "\n",
    "from IPython.display import clear_output, display, update_display #IPython is the computing shell for our programming!\n",
    "import time #For general use throughout the code\n",
    "import smbus #Temperature\n",
    "\n",
    "#Temperature and humidity\n",
    "from bme280 import BME280\n",
    "bme280 = BME280() \n",
    "\n",
    "import busio #Air quality sensor, buzzer\n",
    "import board #Air quality sensor, buzzer, and display\n",
    "from board import * #Air quality sensor, buzzer\n",
    "\n",
    "#Air quality sensor\n",
    "i2c = board.I2C() \n",
    "\n",
    "#Google Sheets\n",
    "import gspread\n",
    "from oauth2client.service_account import ServiceAccountCredentials\n",
    "from datetime import datetime\n",
    "\n",
    "#Adafruit\n",
    "import os\n",
    "import adafruit_ccs811\n",
    "from Adafruit_IO import Client, Feed, RequestError\n",
    "\n",
    "#Loading the .env file for later customization\n",
    "from dotenv import load_dotenv\n",
    "load_dotenv()  \n",
    "\n",
    "#Screen display\n",
    "#import digitalio\n",
    "#from PIL import Image, ImageDraw, ImageFont\n",
    "#import adafruit_ssd1306\n",
    "\n",
    "from adafruit_seesaw import seesaw, pwmout #Buzzer"
   ]
  },
  {
   "cell_type": "markdown",
   "id": "1c50c737",
   "metadata": {},
   "source": [
    "Google Sheets Initial Code - Kristen"
   ]
  },
  {
   "cell_type": "code",
   "execution_count": null,
   "id": "bf34e568",
   "metadata": {},
   "outputs": [],
   "source": [
    "sheet_name = \"ProjectCSGirls\"   #Define the name of our Google Sheet\n",
    "\n",
    "#use credentials to create a client that interacts with the Google Drive API\n",
    "scopes = [\"https://www.googleapis.com/auth/drive\", \"https://www.googleapis.com/auth/drive.file\", \n",
    "          \"https://www.googleapis.com/auth/spreadsheets\"]\n",
    "creds = ServiceAccountCredentials.from_json_keyfile_name('projectcsgirls-345320-ec70b92cf651.json', scopes)\n",
    "client = gspread.authorize(creds)\n",
    "\n",
    "#Find the workbook by name and open the first sheet\n",
    "sheet = client.open(sheet_name).sheet1"
   ]
  },
  {
   "cell_type": "markdown",
   "id": "636b5fb3",
   "metadata": {},
   "source": [
    "Google Sheets Initial Code - Katie"
   ]
  },
  {
   "cell_type": "code",
   "execution_count": 2,
   "id": "50d2c475",
   "metadata": {},
   "outputs": [],
   "source": [
    "sheet_name = \"ProjectCSGirls\"   #Define the name of our Google Sheet\n",
    "\n",
    "file = os.environ.get(\"JSON\") #Create a variable that takes the name of our secret.json file from the .env file\n",
    "\n",
    "#use credentials to create a client that interacts with the Google Drive API\n",
    "scopes = [\"https://www.googleapis.com/auth/drive\", \"https://www.googleapis.com/auth/drive.file\", \n",
    "          \"https://www.googleapis.com/auth/spreadsheets\"]\n",
    "creds = ServiceAccountCredentials.from_json_keyfile_name(file, scopes)\n",
    "client = gspread.authorize(creds)\n",
    "\n",
    "#Find the workbook by name and open the first sheet\n",
    "sheet = client.open(sheet_name).sheet1"
   ]
  },
  {
   "cell_type": "markdown",
   "id": "094b3377",
   "metadata": {},
   "source": [
    "Testing each measurement individually"
   ]
  },
  {
   "cell_type": "code",
   "execution_count": 3,
   "id": "da75f57c",
   "metadata": {},
   "outputs": [],
   "source": [
    "#temperature\n",
    "\n",
    "def readTemp():\n",
    "    #By default the address of LM75A is set to 0x48\n",
    "    address = 0x48\n",
    "\n",
    "    #Read I2C data and calculate temperature\n",
    "    bus = smbus.SMBus(1)\n",
    "    raw = bus.read_word_data(address, 0) & 0xFFFF\n",
    "    raw = ((raw << 8) & 0xFF00) + (raw >> 8)\n",
    "    temperature = (raw / 32.0) / 8.0\n",
    "    return temperature"
   ]
  },
  {
   "cell_type": "code",
   "execution_count": 4,
   "id": "ffa7b7e0",
   "metadata": {},
   "outputs": [
    {
     "name": "stdout",
     "output_type": "stream",
     "text": [
      "88.2681598298333\n"
     ]
    }
   ],
   "source": [
    "#humidity\n",
    "h = bme280.get_humidity()\n",
    "print (h)"
   ]
  },
  {
   "cell_type": "code",
   "execution_count": 5,
   "id": "6ed08f9b",
   "metadata": {},
   "outputs": [
    {
     "name": "stdout",
     "output_type": "stream",
     "text": [
      "CO2:  0 TVOC: 0\n"
     ]
    }
   ],
   "source": [
    "#CO2 and TVOC\n",
    "ccs = adafruit_ccs811.CCS811(i2c)\n",
    "print(\"CO2: \", ccs.eco2, \"TVOC:\", ccs.tvoc)"
   ]
  },
  {
   "cell_type": "markdown",
   "id": "a7f43f21",
   "metadata": {},
   "source": [
    "Adafruit Connection - Kristen"
   ]
  },
  {
   "cell_type": "code",
   "execution_count": null,
   "id": "509f37c2",
   "metadata": {},
   "outputs": [],
   "source": [
    "#Load login token from .env file\n",
    "load_dotenv()\n",
    "\n",
    "ADAFRUIT_IO_USERNAME = os.environ.get(\"ADAFRUIT_IO_USERNAME\") #Adafruit username\n",
    "ADAFRUIT_IO_KEY = os.environ.get(\"ADAFRUIT_IO_KEY\") #Adafruit password\n",
    "\n",
    "aio = Client(ADAFRUIT_IO_USERNAME, ADAFRUIT_IO_KEY)"
   ]
  },
  {
   "cell_type": "markdown",
   "id": "b433f733",
   "metadata": {},
   "source": [
    "Adafruit Connection - Katie"
   ]
  },
  {
   "cell_type": "code",
   "execution_count": 6,
   "id": "6f860cf3",
   "metadata": {},
   "outputs": [],
   "source": [
    "ADAFRUIT_IO_USERNAME = os.environ.get(\"ADAFRUIT_IO_USERNAME\") #Get our Adafruit usernames from the .env file\n",
    "ADAFRUIT_IO_KEY = os.environ.get(\"ADAFRUIT_IO_KEY\") #Get our Adafruit passwords from the .env file\n",
    "\n",
    "aio = Client(ADAFRUIT_IO_USERNAME, ADAFRUIT_IO_KEY)"
   ]
  },
  {
   "cell_type": "markdown",
   "id": "25676215",
   "metadata": {},
   "source": [
    "Location - Kristen"
   ]
  },
  {
   "cell_type": "code",
   "execution_count": null,
   "id": "29d316e9",
   "metadata": {},
   "outputs": [],
   "source": [
    "metadata = {'lat': 35.92948,\n",
    "            'lon': -84.1313,\n",
    "            'ele': 0,\n",
    "            'created_at':None} "
   ]
  },
  {
   "cell_type": "markdown",
   "id": "91ec2ff3",
   "metadata": {},
   "source": [
    "Location - Katie"
   ]
  },
  {
   "cell_type": "code",
   "execution_count": 7,
   "id": "c931b276",
   "metadata": {},
   "outputs": [],
   "source": [
    "#Create more lat/lon variables\n",
    "lat = os.environ.get(\"LAT\")\n",
    "lon = os.environ.get(\"LON\")\n",
    "\n",
    "#Create metadata variable\n",
    "metadata = {\"lat\": lat,\n",
    "            \"lon\": lon,\n",
    "            \"ele\": 0,\n",
    "            \"created_at\":None}"
   ]
  },
  {
   "cell_type": "markdown",
   "id": "b1315644",
   "metadata": {},
   "source": [
    "Reading Adafruit feeds - Katie"
   ]
  },
  {
   "cell_type": "code",
   "execution_count": 8,
   "id": "4d1db82b",
   "metadata": {},
   "outputs": [],
   "source": [
    "exterFeedB = aio.feeds(\"external\")\n",
    "humidFeedB = aio.feeds(\"humidity\")\n",
    "co2FeedB = aio.feeds(\"co2\")\n",
    "tvocFeedB = aio.feeds(\"tvoc\")"
   ]
  },
  {
   "cell_type": "markdown",
   "id": "4fe8d767",
   "metadata": {},
   "source": [
    "Reading Adafruit feeds - Kristen"
   ]
  },
  {
   "cell_type": "code",
   "execution_count": null,
   "id": "179c9a31",
   "metadata": {},
   "outputs": [],
   "source": [
    "exterFeedM = aio.feeds(\"externaltemperature\")\n",
    "humidFeedM = aio.feeds(\"humidity\")\n",
    "co2FeedM = aio.feeds(\"co2\")\n",
    "tvocFeedM = aio.feesd(\"tvoc\")"
   ]
  },
  {
   "cell_type": "markdown",
   "id": "67cd667c",
   "metadata": {},
   "source": [
    "Buzzer Initial Code"
   ]
  },
  {
   "cell_type": "code",
   "execution_count": 9,
   "id": "af89a808",
   "metadata": {},
   "outputs": [],
   "source": [
    "myI2C = busio.I2C(SCL, SDA)\n",
    "\n",
    "ss = seesaw.Seesaw(myI2C)\n",
    "pwm = pwmout.PWMOut(ss,5)"
   ]
  },
  {
   "cell_type": "code",
   "execution_count": null,
   "id": "1cf79ceb",
   "metadata": {},
   "outputs": [],
   "source": [
    "Screen Initial Code "
   ]
  },
  {
   "cell_type": "code",
   "execution_count": 13,
   "id": "7d0125e9",
   "metadata": {
    "scrolled": true
   },
   "outputs": [
    {
     "ename": "OSError",
     "evalue": "cannot open resource",
     "output_type": "error",
     "traceback": [
      "\u001b[0;31m---------------------------------------------------------------------------\u001b[0m",
      "\u001b[0;31mOSError\u001b[0m                                   Traceback (most recent call last)",
      "\u001b[0;32m<ipython-input-13-505cee7d67c9>\u001b[0m in \u001b[0;36m<module>\u001b[0;34m\u001b[0m\n\u001b[1;32m     30\u001b[0m \u001b[0;31m#Write some text on the screen\u001b[0m\u001b[0;34m\u001b[0m\u001b[0;34m\u001b[0m\u001b[0;34m\u001b[0m\u001b[0m\n\u001b[1;32m     31\u001b[0m \u001b[0mtext\u001b[0m \u001b[0;34m=\u001b[0m \u001b[0;34m\"Katie & Kristen\"\u001b[0m\u001b[0;34m\u001b[0m\u001b[0;34m\u001b[0m\u001b[0m\n\u001b[0;32m---> 32\u001b[0;31m \u001b[0mfont\u001b[0m \u001b[0;34m=\u001b[0m \u001b[0mImageFont\u001b[0m\u001b[0;34m.\u001b[0m\u001b[0mtruetype\u001b[0m\u001b[0;34m(\u001b[0m\u001b[0;34m\"arial.ttf\"\u001b[0m\u001b[0;34m,\u001b[0m \u001b[0;36m9\u001b[0m\u001b[0;34m)\u001b[0m\u001b[0;34m\u001b[0m\u001b[0;34m\u001b[0m\u001b[0m\n\u001b[0m\u001b[1;32m     33\u001b[0m \u001b[0;34m(\u001b[0m\u001b[0mfont_width\u001b[0m\u001b[0;34m,\u001b[0m \u001b[0mfont_height\u001b[0m\u001b[0;34m)\u001b[0m \u001b[0;34m=\u001b[0m \u001b[0mfont\u001b[0m\u001b[0;34m.\u001b[0m\u001b[0mgetsize\u001b[0m\u001b[0;34m(\u001b[0m\u001b[0mtext\u001b[0m\u001b[0;34m)\u001b[0m\u001b[0;34m\u001b[0m\u001b[0;34m\u001b[0m\u001b[0m\n\u001b[1;32m     34\u001b[0m \u001b[0mdraw\u001b[0m\u001b[0;34m.\u001b[0m\u001b[0mtext\u001b[0m\u001b[0;34m(\u001b[0m \u001b[0;34m(\u001b[0m\u001b[0moled\u001b[0m\u001b[0;34m.\u001b[0m\u001b[0mwidth\u001b[0m \u001b[0;34m//\u001b[0m \u001b[0;36m2\u001b[0m \u001b[0;34m-\u001b[0m \u001b[0mfont_width\u001b[0m \u001b[0;34m//\u001b[0m \u001b[0;36m2\u001b[0m\u001b[0;34m,\u001b[0m \u001b[0;34m-\u001b[0m\u001b[0;36m1\u001b[0m\u001b[0;34m)\u001b[0m\u001b[0;34m,\u001b[0m \u001b[0mtext\u001b[0m\u001b[0;34m,\u001b[0m \u001b[0mfont\u001b[0m\u001b[0;34m=\u001b[0m\u001b[0mfont\u001b[0m\u001b[0;34m,\u001b[0m \u001b[0mfill\u001b[0m\u001b[0;34m=\u001b[0m\u001b[0;36m255\u001b[0m\u001b[0;34m,\u001b[0m\u001b[0;34m)\u001b[0m\u001b[0;34m\u001b[0m\u001b[0;34m\u001b[0m\u001b[0m\n",
      "\u001b[0;32m/usr/lib/python3/dist-packages/PIL/ImageFont.py\u001b[0m in \u001b[0;36mtruetype\u001b[0;34m(font, size, index, encoding, layout_engine)\u001b[0m\n\u001b[1;32m    278\u001b[0m \u001b[0;34m\u001b[0m\u001b[0m\n\u001b[1;32m    279\u001b[0m     \u001b[0;32mtry\u001b[0m\u001b[0;34m:\u001b[0m\u001b[0;34m\u001b[0m\u001b[0;34m\u001b[0m\u001b[0m\n\u001b[0;32m--> 280\u001b[0;31m         \u001b[0;32mreturn\u001b[0m \u001b[0mFreeTypeFont\u001b[0m\u001b[0;34m(\u001b[0m\u001b[0mfont\u001b[0m\u001b[0;34m,\u001b[0m \u001b[0msize\u001b[0m\u001b[0;34m,\u001b[0m \u001b[0mindex\u001b[0m\u001b[0;34m,\u001b[0m \u001b[0mencoding\u001b[0m\u001b[0;34m,\u001b[0m \u001b[0mlayout_engine\u001b[0m\u001b[0;34m)\u001b[0m\u001b[0;34m\u001b[0m\u001b[0;34m\u001b[0m\u001b[0m\n\u001b[0m\u001b[1;32m    281\u001b[0m     \u001b[0;32mexcept\u001b[0m \u001b[0mIOError\u001b[0m\u001b[0;34m:\u001b[0m\u001b[0;34m\u001b[0m\u001b[0;34m\u001b[0m\u001b[0m\n\u001b[1;32m    282\u001b[0m         \u001b[0mttf_filename\u001b[0m \u001b[0;34m=\u001b[0m \u001b[0mos\u001b[0m\u001b[0;34m.\u001b[0m\u001b[0mpath\u001b[0m\u001b[0;34m.\u001b[0m\u001b[0mbasename\u001b[0m\u001b[0;34m(\u001b[0m\u001b[0mfont\u001b[0m\u001b[0;34m)\u001b[0m\u001b[0;34m\u001b[0m\u001b[0;34m\u001b[0m\u001b[0m\n",
      "\u001b[0;32m/usr/lib/python3/dist-packages/PIL/ImageFont.py\u001b[0m in \u001b[0;36m__init__\u001b[0;34m(self, font, size, index, encoding, layout_engine)\u001b[0m\n\u001b[1;32m    143\u001b[0m         \u001b[0;32mif\u001b[0m \u001b[0misPath\u001b[0m\u001b[0;34m(\u001b[0m\u001b[0mfont\u001b[0m\u001b[0;34m)\u001b[0m\u001b[0;34m:\u001b[0m\u001b[0;34m\u001b[0m\u001b[0;34m\u001b[0m\u001b[0m\n\u001b[1;32m    144\u001b[0m             self.font = core.getfont(font, size, index, encoding,\n\u001b[0;32m--> 145\u001b[0;31m                                      layout_engine=layout_engine)\n\u001b[0m\u001b[1;32m    146\u001b[0m         \u001b[0;32melse\u001b[0m\u001b[0;34m:\u001b[0m\u001b[0;34m\u001b[0m\u001b[0;34m\u001b[0m\u001b[0m\n\u001b[1;32m    147\u001b[0m             \u001b[0mself\u001b[0m\u001b[0;34m.\u001b[0m\u001b[0mfont_bytes\u001b[0m \u001b[0;34m=\u001b[0m \u001b[0mfont\u001b[0m\u001b[0;34m.\u001b[0m\u001b[0mread\u001b[0m\u001b[0;34m(\u001b[0m\u001b[0;34m)\u001b[0m\u001b[0;34m\u001b[0m\u001b[0;34m\u001b[0m\u001b[0m\n",
      "\u001b[0;31mOSError\u001b[0m: cannot open resource"
     ]
    }
   ],
   "source": [
    "#You need to install the driover using \n",
    "# sudo pip3 install adafruit-circuitpython-ssd1306\n",
    "\n",
    "import board\n",
    "import digitalio\n",
    "from PIL import Image, ImageDraw, ImageFont\n",
    "import adafruit_ssd1306\n",
    "\n",
    "#Define the Reset Pin\n",
    "oled_reset = digitalio.DigitalInOut(board.D4)\n",
    "\n",
    "#Set the width and height of the screen\n",
    "WIDTH = 128\n",
    "HEIGHT = 32 \n",
    "\n",
    "#Use for I2C.\n",
    "i2c = board.I2C()\n",
    "oled = adafruit_ssd1306.SSD1306_I2C(WIDTH, HEIGHT, i2c, addr=0x3C, reset=oled_reset)\n",
    "\n",
    "#Clear display.\n",
    "oled.fill(0)\n",
    "oled.show()\n",
    "\n",
    "#Make sure to create image with mode '1' for 1-bit color.\n",
    "image = Image.new(\"1\", (oled.width, oled.height))\n",
    "\n",
    "# Get drawing object to draw on image.\n",
    "draw = ImageDraw.Draw(image)\n",
    "\n",
    "#Write some text on the screen\n",
    "text = \"Katie & Kristen\"\n",
    "font = ImageFont.truetype(\"arial.ttf\", 9)\n",
    "(font_width, font_height) = font.getsize(text)\n",
    "draw.text( (oled.width // 2 - font_width // 2, -1), text, font=font, fill=255,)\n",
    "\n",
    "text = \"HELLO WORLD\"\n",
    "font = ImageFont.truetype(\"arial.ttf\", 9)\n",
    "(font_width, font_height) = font.getsize(text)\n",
    "draw.text( (oled.width // 2 - font_width // 2, 10), text, font=font, fill=255,)\n",
    "\n",
    "text = \"<3\"\n",
    "font = ImageFont.truetype(\"arial.ttf\", 9)\n",
    "(font_width, font_height) = font.getsize(text)\n",
    "draw.text( (oled.width // 2 - font_width // 2, 20), text, font=font, fill=255,)\n",
    "\n",
    "#Display the text\n",
    "oled.image(image)\n",
    "oled.show()"
   ]
  },
  {
   "cell_type": "markdown",
   "id": "d12fc040",
   "metadata": {},
   "source": [
    "Main Loop "
   ]
  },
  {
   "cell_type": "code",
   "execution_count": null,
   "id": "be2a7f28",
   "metadata": {
    "scrolled": true
   },
   "outputs": [],
   "source": [
    "while True:\n",
    "    #Define letter variables\n",
    "    t = readTemp()\n",
    "    e = (t * 9/5) + 32 \n",
    "    h = bme280.get_humidity()\n",
    "    co2 = ccs.eco2\n",
    "    tvoc = ccs.tvoc\n",
    "    \n",
    "    #Send data to Adafruit feeds\n",
    "    aio.send_data(exterFeedB.key, e, metadata)\n",
    "    aio.send_data(humidFeedB.key, h, metadata)\n",
    "    aio.send_data(co2FeedB.key, co2, metadata)\n",
    "    aio.send_data(tvocFeedB.key, tvoc, metadata)\n",
    "    \n",
    "    #Send and print data on the Google Sheet\n",
    "    now=datetime.now()\n",
    "    now_time = now.strftime(\"%H:%M:%S\")\n",
    "    now_day = now.strftime(\"%m/%d/%Y\")\n",
    "    row=[now_day, now_time, e, h, co2, tvoc]\n",
    "    sheet.append_row(row)\n",
    "\n",
    "    #Print data in Jupyter Notebooks (below)\n",
    "    print(e, \":°Fahrenheit|\")\n",
    "    print(h, \":% Humidity|\")\n",
    "    print(co2, \": PPM (CO2)|\")\n",
    "    print(tvoc, \":PPB (TVOC)|\")\n",
    "    print()\n",
    "    \n",
    "    #Tells the buzzer and screen what to do *TESTING*\n",
    "    if ((e >= 60) and (co2 >= 402)):\n",
    "      #Buzzer\n",
    "      pwm.duty_cycle=0x80 #Makes a noise for 5 seconds at a single frequency\n",
    "      time.sleep(1)\n",
    "      pwm.duty_cycle=0x00 #Pause (silent) for 5 seconds\n",
    "      time.sleep(2)\n",
    "      pwm.duty_cycle=0x90 #Makes a noise for 5 seconds at a slightly higher but still linear frequency\n",
    "      time.sleep(1)\n",
    "      pwm.duty_cycle=0x00 #Pause (silent) for 5 seconds\n",
    "      time.sleep(2)\n",
    "        \n",
    "      #Screen display\n",
    "      text = \"EnviroReader\"\n",
    "      font = ImageFont.truetype(\"arial.ttf\", 9)\n",
    "      (font_width, font_height) = font.getsize(text)\n",
    "      draw.text( (oled.width // 2 - font_width // 2, -1), text, font=font, fill=255,)\n",
    "\n",
    "      text = \"ALERT!\"\n",
    "      font = ImageFont.truetype(\"arial.ttf\", 9)\n",
    "      (font_width, font_height) = font.getsize(text)\n",
    "      draw.text( (oled.width // 2 - font_width // 2, 10), text, font=font, fill=255,)\n",
    "\n",
    "      text = \"Your CO2 is too high\"\n",
    "      font = ImageFont.truetype(\"arial.ttf\", 9)\n",
    "      (font_width, font_height) = font.getsize(text)\n",
    "      draw.text( (oled.width // 2 - font_width // 2, 20), text, font=font, fill=255,)\n",
    "\n",
    "      #Display the text\n",
    "      oled.image(image)\n",
    "      oled.show()\n",
    "\n",
    "    #Wait a certain amount of time before taking the next reading\n",
    "    time.sleep(24)"
   ]
  },
  {
   "cell_type": "markdown",
   "id": "6816a5d2",
   "metadata": {},
   "source": [
    "Screen Code - Basic display"
   ]
  },
  {
   "cell_type": "code",
   "execution_count": null,
   "id": "e797764a",
   "metadata": {},
   "outputs": [],
   "source": [
    "#Define the Reset Pin\n",
    "oled_reset = digitalio.DigitalInOut(board.D4)\n",
    "\n",
    "#Set the width and height of the screen\n",
    "WIDTH = 128\n",
    "HEIGHT = 32 \n",
    "\n",
    "#Use for I2C.\n",
    "i2c = board.I2C()\n",
    "oled = adafruit_ssd1306.SSD1306_I2C(WIDTH, HEIGHT, i2c, addr=0x3C, reset=oled_reset)\n",
    "\n",
    "#Clear display.\n",
    "oled.fill(0)\n",
    "oled.show()\n",
    "\n",
    "#Make sure to create image with mode '1' for 1-bit color.\n",
    "image = Image.new(\"1\", (oled.width, oled.height))\n",
    "\n",
    "# Get drawing object to draw on image.\n",
    "draw = ImageDraw.Draw(image)\n",
    "\n",
    "#Write some text on the screen\n",
    "text = \"Katie & Kristen\"\n",
    "font = ImageFont.truetype(\"arial.ttf\", 9)\n",
    "(font_width, font_height) = font.getsize(text)\n",
    "draw.text( (oled.width // 2 - font_width // 2, -1), text, font=font, fill=255,)\n",
    "\n",
    "text = \"HELLO WORLD\"\n",
    "font = ImageFont.truetype(\"arial.ttf\", 9)\n",
    "(font_width, font_height) = font.getsize(text)\n",
    "draw.text( (oled.width // 2 - font_width // 2, 10), text, font=font, fill=255,)\n",
    "\n",
    "text = \"<3\"\n",
    "font = ImageFont.truetype(\"arial.ttf\", 9)\n",
    "(font_width, font_height) = font.getsize(text)\n",
    "draw.text( (oled.width // 2 - font_width // 2, 20), text, font=font, fill=255,)\n",
    "\n",
    "#Display the text\n",
    "oled.image(image)\n",
    "oled.show()"
   ]
  },
  {
   "cell_type": "code",
   "execution_count": null,
   "id": "a9b2e0dd",
   "metadata": {},
   "outputs": [],
   "source": [
    "#Run this cell to stop the buzzer!\n",
    "pwm.duty_cycle=0x00"
   ]
  }
 ],
 "metadata": {
  "kernelspec": {
   "display_name": "Python 3",
   "language": "python",
   "name": "python3"
  },
  "language_info": {
   "codemirror_mode": {
    "name": "ipython",
    "version": 3
   },
   "file_extension": ".py",
   "mimetype": "text/x-python",
   "name": "python",
   "nbconvert_exporter": "python",
   "pygments_lexer": "ipython3",
   "version": "3.7.3"
  }
 },
 "nbformat": 4,
 "nbformat_minor": 5
}
