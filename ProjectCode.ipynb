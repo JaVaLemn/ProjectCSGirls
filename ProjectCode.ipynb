{
 "cells": [
  {
   "cell_type": "markdown",
   "id": "bcef8871",
   "metadata": {},
   "source": [
    "# Project Code\n",
    "\n",
    "### ProjectCSGirls 2022"
   ]
  },
  {
   "cell_type": "code",
   "execution_count": 12,
   "id": "3c9595b4",
   "metadata": {},
   "outputs": [],
   "source": [
    "##import libraries for use throughout our code\n",
    "\n",
    "from IPython.display import clear_output, display, update_display #IPython is the computing shell for our programming!\n",
    "\n",
    "import smbus #temperature\n",
    "\n",
    "#temperature and humidity\n",
    "from bme280 import BME280\n",
    "bme280 = BME280() \n",
    "\n",
    "import busio #air quality sensor\n",
    "import board #air quality sensor, buzzer, and display\n",
    "\n",
    "#Air quality sensor\n",
    "from board import *\n",
    "i2c = board.I2C() \n",
    "\n",
    "#Google Sheets\n",
    "import gspread\n",
    "from oauth2client.service_account import ServiceAccountCredentials\n",
    "from datetime import datetime\n",
    "\n",
    "#Adafruit\n",
    "import adafruit_ccs811\n",
    "from Adafruit_IO import Client, Feed, RequestError\n",
    "from dotenv import load_dotenv\n",
    "import os\n",
    "\n",
    "import time #for general use"
   ]
  },
  {
   "cell_type": "markdown",
   "id": "1c50c737",
   "metadata": {},
   "source": [
    "Google Sheets Initial Code - Kristen"
   ]
  },
  {
   "cell_type": "code",
   "execution_count": null,
   "id": "bf34e568",
   "metadata": {},
   "outputs": [],
   "source": [
    "sheet_name = \"ProjectCSGirls\"   #Define the name of our Google Sheet\n",
    "\n",
    "# use credentials to create a client that interacts with the Google Drive API *FIX THIS @ 2:30!!!*\n",
    "scopes = [\"https://www.googleapis.com/auth/drive\", \"https://www.googleapis.com/auth/drive.file\", \n",
    "          \"https://www.googleapis.com/auth/spreadsheets\"]\n",
    "creds = ServiceAccountCredentials.from_json_keyfile_name('projectcsgirls-345320-ec70b92cf651.json', scopes)\n",
    "client = gspread.authorize(creds)\n",
    "\n",
    "# Find the workbook by name and open the first sheet\n",
    "sheet = client.open(sheet_name).sheet1"
   ]
  },
  {
   "cell_type": "markdown",
   "id": "636b5fb3",
   "metadata": {},
   "source": [
    "Google Sheets Initial Code - Katie"
   ]
  },
  {
   "cell_type": "code",
   "execution_count": 13,
   "id": "50d2c475",
   "metadata": {},
   "outputs": [],
   "source": [
    "sheet_name = \"ProjectCSGirls\"   #Define the name of our Google Sheet\n",
    "\n",
    "# use credentials to create a client that interacts with the Google Drive API\n",
    "scopes = [\"https://www.googleapis.com/auth/drive\", \"https://www.googleapis.com/auth/drive.file\", \n",
    "          \"https://www.googleapis.com/auth/spreadsheets\"]\n",
    "creds = ServiceAccountCredentials.from_json_keyfile_name('secret.json', scopes)\n",
    "client = gspread.authorize(creds)\n",
    "\n",
    "# Find the workbook by name and open the first sheet\n",
    "sheet = client.open(sheet_name).sheet1"
   ]
  },
  {
   "cell_type": "markdown",
   "id": "094b3377",
   "metadata": {},
   "source": [
    "Testing each measurement individually"
   ]
  },
  {
   "cell_type": "code",
   "execution_count": 9,
   "id": "da75f57c",
   "metadata": {},
   "outputs": [],
   "source": [
    "##temperature\n",
    "\n",
    "## is it working?\n",
    "## how to print??\n",
    "\n",
    "def readTemp():\n",
    "    # By default the address of LM75A is set to 0x48\n",
    "    address = 0x48\n",
    "\n",
    "    # Read I2C data and calculate temperature\n",
    "    bus = smbus.SMBus(1)\n",
    "    raw = bus.read_word_data(address, 0) & 0xFFFF\n",
    "    raw = ((raw << 8) & 0xFF00) + (raw >> 8)\n",
    "    temperature = (raw / 32.0) / 8.0\n",
    "    return temperature"
   ]
  },
  {
   "cell_type": "code",
   "execution_count": 4,
   "id": "ffa7b7e0",
   "metadata": {},
   "outputs": [
    {
     "name": "stdout",
     "output_type": "stream",
     "text": [
      "88.2681598298333\n"
     ]
    }
   ],
   "source": [
    "## humidity\n",
    "h = bme280.get_humidity()\n",
    "print (h)"
   ]
  },
  {
   "cell_type": "code",
   "execution_count": 5,
   "id": "6ed08f9b",
   "metadata": {},
   "outputs": [
    {
     "name": "stdout",
     "output_type": "stream",
     "text": [
      "CO2:  0 TVOC: 0\n"
     ]
    }
   ],
   "source": [
    "## CO2 and TVOC\n",
    "ccs = adafruit_ccs811.CCS811(i2c)\n",
    "print(\"CO2: \", ccs.eco2, \"TVOC:\", ccs.tvoc)"
   ]
  },
  {
   "cell_type": "markdown",
   "id": "a7f43f21",
   "metadata": {},
   "source": [
    "Adafruit Connection - Kristen"
   ]
  },
  {
   "cell_type": "code",
   "execution_count": null,
   "id": "509f37c2",
   "metadata": {},
   "outputs": [],
   "source": [
    "#Load login token from .env file\n",
    "load_dotenv()\n",
    "\n",
    "ADAFRUIT_IO_USERNAME = os.environ.get(\"ADAFRUIT_IO_USERNAME\") #Adafruit username\n",
    "ADAFRUIT_IO_KEY = os.environ.get(\"ADAFRUIT_IO_KEY\") #Adafruit password\n",
    "\n",
    "aio = Client(ADAFRUIT_IO_USERNAME, ADAFRUIT_IO_KEY)"
   ]
  },
  {
   "cell_type": "markdown",
   "id": "b433f733",
   "metadata": {},
   "source": [
    "Adafruit Connection - Katie\n",
    "*Kristen - I put this in my .env file, this is probably important to put in there :)*"
   ]
  },
  {
   "cell_type": "code",
   "execution_count": 10,
   "id": "6f860cf3",
   "metadata": {},
   "outputs": [],
   "source": [
    "#Load login token from .env file\n",
    "load_dotenv()\n",
    "\n",
    "ADAFRUIT_IO_USERNAME = os.environ.get(\"ADAFRUIT_IO_USERNAME\") #Adafruit username\n",
    "ADAFRUIT_IO_KEY = os.environ.get(\"ADAFRUIT_IO_KEY\") #Adafruit password\n",
    "\n",
    "aio = Client(ADAFRUIT_IO_USERNAME, ADAFRUIT_IO_KEY)"
   ]
  },
  {
   "cell_type": "markdown",
   "id": "25676215",
   "metadata": {},
   "source": [
    "Location - Kristen"
   ]
  },
  {
   "cell_type": "code",
   "execution_count": null,
   "id": "29d316e9",
   "metadata": {},
   "outputs": [],
   "source": [
    "metadata = {'lat': 35.92948,\n",
    "            'lon': -84.1313,\n",
    "            'ele': 0,\n",
    "            'created_at':None} "
   ]
  },
  {
   "cell_type": "markdown",
   "id": "91ec2ff3",
   "metadata": {},
   "source": [
    "Location - Katie"
   ]
  },
  {
   "cell_type": "code",
   "execution_count": 14,
   "id": "c931b276",
   "metadata": {},
   "outputs": [],
   "source": [
    "metadata = {\"lat\": 40.262726,\n",
    "            \"lon\": -74.94198,\n",
    "            \"ele\": 0,\n",
    "            \"created_at\": None}"
   ]
  },
  {
   "cell_type": "markdown",
   "id": "b1315644",
   "metadata": {},
   "source": [
    "Reading Adafruit feeds - Katie"
   ]
  },
  {
   "cell_type": "code",
   "execution_count": 15,
   "id": "4d1db82b",
   "metadata": {},
   "outputs": [],
   "source": [
    "exterFeedB = aio.feeds(\"external\")\n",
    "humidFeedB = aio.feeds(\"humidity\")\n",
    "co2FeedB = aio.feeds(\"co2\")\n",
    "tvocFeedB = aio.feeds(\"tvoc\")"
   ]
  },
  {
   "cell_type": "markdown",
   "id": "4fe8d767",
   "metadata": {},
   "source": [
    "Reading Adafruit feeds - Kristen\n",
    "*Kristen - Do you want to make your Adafruit ext. feed the same name as mine? Then our feeds are the same and we can have 1 cell for reading the feeds :)*"
   ]
  },
  {
   "cell_type": "code",
   "execution_count": null,
   "id": "179c9a31",
   "metadata": {},
   "outputs": [],
   "source": [
    "exterFeedM = aio.feeds(\"externaltemperature\")\n",
    "humidFeedM = aio.feeds(\"humidity\")\n",
    "co2FeedM = aio.feeds(\"co2\")\n",
    "tvocFeedM = aio.feesd(\"tvoc\")"
   ]
  },
  {
   "cell_type": "markdown",
   "id": "d12fc040",
   "metadata": {},
   "source": [
    "Main Loop \n",
    "*Kristen - Dr. Proffen said we can have one main loop with the same variable names, so I combined them :)*"
   ]
  },
  {
   "cell_type": "code",
   "execution_count": 16,
   "id": "be2a7f28",
   "metadata": {},
   "outputs": [
    {
     "name": "stdout",
     "output_type": "stream",
     "text": [
      "67.1 :°Fahrenheit|\n",
      "88.2681598298333 :% Humidity|\n",
      "424 : PPM (CO2)|\n",
      "3 :PPB (TVOC)|\n",
      "\n"
     ]
    },
    {
     "ename": "KeyboardInterrupt",
     "evalue": "",
     "output_type": "error",
     "traceback": [
      "\u001b[0;31m---------------------------------------------------------------------------\u001b[0m",
      "\u001b[0;31mKeyboardInterrupt\u001b[0m                         Traceback (most recent call last)",
      "\u001b[0;32m<ipython-input-16-8f59b76bb3ef>\u001b[0m in \u001b[0;36m<module>\u001b[0;34m\u001b[0m\n\u001b[1;32m     28\u001b[0m \u001b[0;34m\u001b[0m\u001b[0m\n\u001b[1;32m     29\u001b[0m     \u001b[0;31m#wait a certain amount of time\u001b[0m\u001b[0;34m\u001b[0m\u001b[0;34m\u001b[0m\u001b[0;34m\u001b[0m\u001b[0m\n\u001b[0;32m---> 30\u001b[0;31m     \u001b[0mtime\u001b[0m\u001b[0;34m.\u001b[0m\u001b[0msleep\u001b[0m\u001b[0;34m(\u001b[0m\u001b[0;36m60\u001b[0m\u001b[0;34m)\u001b[0m\u001b[0;34m\u001b[0m\u001b[0;34m\u001b[0m\u001b[0m\n\u001b[0m",
      "\u001b[0;31mKeyboardInterrupt\u001b[0m: "
     ]
    }
   ],
   "source": [
    "while True:\n",
    "    #define letter variables\n",
    "    t = readTemp()\n",
    "    e = t * (9./5.) +32 \n",
    "    h = bme280.get_humidity()\n",
    "    co2 = ccs.eco2\n",
    "    tvoc = ccs.tvoc\n",
    "    \n",
    "    #send data to Adafruit feeds\n",
    "    aio.send_data(exterFeedB.key, e, metadata)\n",
    "    aio.send_data(humidFeedB.key, h, metadata)\n",
    "    aio.send_data(co2FeedB.key, co2, metadata)\n",
    "    aio.send_data(tvocFeedB.key, tvoc, metadata)\n",
    "    \n",
    "    #send and print data on the Google Sheet\n",
    "    now=datetime.now()\n",
    "    now_time = now.strftime(\"%H:%M:%S\")\n",
    "    now_day = now.strftime(\"%m/%d/%Y\")\n",
    "    row=[now_day, now_time, e, h, co2, tvoc]\n",
    "    sheet.append_row(row)\n",
    "    \n",
    "    #print data in Jupyter Notebooks (below)\n",
    "    print(e, \":°Fahrenheit|\")\n",
    "    print(h, \":% Humidity|\")\n",
    "    print(co2, \": PPM (CO2)|\")\n",
    "    print(tvoc, \":PPB (TVOC)|\")\n",
    "    print()\n",
    "    \n",
    "    #wait a certain amount of time\n",
    "    time.sleep(60)"
   ]
  },
  {
   "cell_type": "code",
   "execution_count": null,
   "id": "90311559",
   "metadata": {},
   "outputs": [],
   "source": []
  }
 ],
 "metadata": {
  "kernelspec": {
   "display_name": "Python 3",
   "language": "python",
   "name": "python3"
  },
  "language_info": {
   "codemirror_mode": {
    "name": "ipython",
    "version": 3
   },
   "file_extension": ".py",
   "mimetype": "text/x-python",
   "name": "python",
   "nbconvert_exporter": "python",
   "pygments_lexer": "ipython3",
   "version": "3.7.3"
  }
 },
 "nbformat": 4,
 "nbformat_minor": 5
}
