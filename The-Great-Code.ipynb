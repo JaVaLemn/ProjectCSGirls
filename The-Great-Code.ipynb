{
 "cells": [
  {
   "cell_type": "code",
   "execution_count": null,
   "id": "697e1226",
   "metadata": {},
   "outputs": [],
   "source": [
    "print(\"ProjectCS Girls is the best!\")"
   ]
  },
  {
   "cell_type": "code",
   "execution_count": null,
   "id": "86bc8768",
   "metadata": {},
   "outputs": [],
   "source": [
    "print(\"GitHub is complicated 😓\")"
   ]
  },
  {
   "cell_type": "code",
   "execution_count": null,
   "id": "a66098b6",
   "metadata": {},
   "outputs": [],
   "source": [
    "print(\"Maybe not so complicated, more confusing!\")"
   ]
  },
  {
   "cell_type": "code",
   "execution_count": null,
   "id": "e663c044",
   "metadata": {},
   "outputs": [],
   "source": []
  }
 ],
 "metadata": {
  "kernelspec": {
   "display_name": "Python 3",
   "language": "python",
   "name": "python3"
  },
  "language_info": {
   "codemirror_mode": {
    "name": "ipython",
    "version": 3
   },
   "file_extension": ".py",
   "mimetype": "text/x-python",
   "name": "python",
   "nbconvert_exporter": "python",
   "pygments_lexer": "ipython3",
   "version": "3.7.3"
  }
 },
 "nbformat": 4,
 "nbformat_minor": 5
}
