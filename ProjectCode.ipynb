{
 "cells": [
  {
   "cell_type": "markdown",
   "id": "737eec8e",
   "metadata": {},
   "source": [
    "# Project Code\n",
    "\n",
    "### ProjectCSGirls 2022"
   ]
  },
  {
   "cell_type": "code",
   "execution_count": 5,
   "id": "aeb513c2",
   "metadata": {},
   "outputs": [],
   "source": [
    "##import all of the things needed for the project code\n",
    "from IPython.display import clear_output, display, update_display\n",
    "import smbus\n",
    "\n",
    "from bme280 import BME280\n",
    "bme280 = BME280()\n",
    "import busio\n",
    "import board\n",
    "import adafruit_ccs811\n",
    "\n",
    "from board import *\n",
    "i2c = board.I2C() \n",
    "\n",
    "import time\n",
    "from datetime import datetime"
   ]
  },
  {
   "cell_type": "markdown",
   "id": "12f88baa",
   "metadata": {},
   "source": [
    "Google Sheets Initial Code - Kristen"
   ]
  },
  {
   "cell_type": "code",
   "execution_count": null,
   "id": "314bcd92",
   "metadata": {},
   "outputs": [],
   "source": [
    "## import the things necessary for Google Sheets in particular\n",
    "import gspread\n",
    "from oauth2client.service_account import ServiceAccountCredentials\n",
    "\n",
    "sheet_name = \"ProjectCSGirls\"   # Make sure this matches your Google sheet name\n",
    "\n",
    "# use creds to create a client to interact with the Google Drive API\n",
    "scopes = [\"https://www.googleapis.com/auth/drive\", \"https://www.googleapis.com/auth/drive.file\", \n",
    "          \"https://www.googleapis.com/auth/spreadsheets\"]\n",
    "creds = ServiceAccountCredentials.from_json_keyfile_name('projectcsgirls-345320-ec70b92cf651.json', scopes)\n",
    "client = gspread.authorize(creds)\n",
    "\n",
    "# Find the workbook by name and open the first sheet\n",
    "sheet = client.open(sheet_name).sheet1"
   ]
  },
  {
   "cell_type": "markdown",
   "id": "636b5fb3",
   "metadata": {},
   "source": [
    "Google Sheets Initial Code - Katie"
   ]
  },
  {
   "cell_type": "code",
   "execution_count": 6,
   "id": "50d2c475",
   "metadata": {},
   "outputs": [],
   "source": [
    "## import the things necessary for Google Sheets in particular\n",
    "import gspread\n",
    "from oauth2client.service_account import ServiceAccountCredentials\n",
    "\n",
    "sheet_name = \"ProjectCSGirls\"   # Make sure this matches your Google sheet name\n",
    "\n",
    "# use creds to create a client to interact with the Google Drive API\n",
    "scopes = [\"https://www.googleapis.com/auth/drive\", \"https://www.googleapis.com/auth/drive.file\", \n",
    "          \"https://www.googleapis.com/auth/spreadsheets\"]\n",
    "creds = ServiceAccountCredentials.from_json_keyfile_name('secret.json', scopes)\n",
    "client = gspread.authorize(creds)\n",
    "\n",
    "# Find the workbook by name and open the first sheet\n",
    "sheet = client.open(sheet_name).sheet1"
   ]
  },
  {
   "cell_type": "markdown",
   "id": "83366e67",
   "metadata": {},
   "source": [
    "Testing each measurement individually"
   ]
  },
  {
   "cell_type": "code",
   "execution_count": 11,
   "id": "5f6366f8",
   "metadata": {},
   "outputs": [],
   "source": [
    "##temperature\n",
    "\n",
    "## is it working?\n",
    "## how to print??\n",
    "\n",
    "def readTemp():\n",
    "    # By default the address of LM75A is set to 0x48\n",
    "    address = 0x48\n",
    "\n",
    "    # Read I2C data and calculate temperature\n",
    "    bus = smbus.SMBus(1)\n",
    "    raw = bus.read_word_data(address, 0) & 0xFFFF\n",
    "    raw = ((raw << 8) & 0xFF00) + (raw >> 8)\n",
    "    temperature = (raw / 32.0) / 8.0\n",
    "    return temperature"
   ]
  },
  {
   "cell_type": "code",
   "execution_count": 10,
   "id": "83c387ec",
   "metadata": {},
   "outputs": [
    {
     "name": "stdout",
     "output_type": "stream",
     "text": [
      "23.50598525775839\n"
     ]
    }
   ],
   "source": [
    "## humidity\n",
    "\n",
    "h = bme280.get_humidity()\n",
    "print (h)"
   ]
  },
  {
   "cell_type": "code",
   "execution_count": 6,
   "id": "906f6fda",
   "metadata": {},
   "outputs": [
    {
     "name": "stdout",
     "output_type": "stream",
     "text": [
      "CO2:  0 TVOC: 0\n"
     ]
    }
   ],
   "source": [
    "## CO2 and TVOC\n",
    "\n",
    "ccs = adafruit_ccs811.CCS811(i2c)\n",
    "\n",
    "print(\"CO2: \", ccs.eco2, \"TVOC:\", ccs.tvoc)"
   ]
  },
  {
   "cell_type": "markdown",
   "id": "b433f733",
   "metadata": {},
   "source": [
    "Adafruit Connection - Katie"
   ]
  },
  {
   "cell_type": "code",
   "execution_count": 1,
   "id": "e44978c7",
   "metadata": {},
   "outputs": [],
   "source": [
    "#contact and sign into Adafruit with the .env file\n",
    "from Adafruit_IO import Client, Feed, RequestError\n",
    "from dotenv import load_dotenv\n",
    "import os\n",
    "\n",
    "#Load login token from .env file\n",
    "load_dotenv()\n",
    "\n",
    "ADAFRUIT_IO_USERNAME = os.environ.get(\"ADAFRUIT_IO_USERNAME\")\n",
    "ADAFRUIT_IO_KEY = os.environ.get(\"ADAFRUIT_IO_KEY\")\n",
    "\n",
    "aio = Client(ADAFRUIT_IO_USERNAME, ADAFRUIT_IO_KEY)"
   ]
  },
  {
   "cell_type": "markdown",
   "id": "91ec2ff3",
   "metadata": {},
   "source": [
    "Location - Katie"
   ]
  },
  {
   "cell_type": "code",
   "execution_count": null,
   "id": "f0a201ef",
   "metadata": {},
   "outputs": [],
   "source": [
    "#create metadata (location)\n",
    "metadata = {\"lat\": 40.262726,\n",
    "            \"lon\": -74.94198,\n",
    "            \"ele\": 0,\n",
    "            \"created_at\": None}"
   ]
  }
 ],
 "metadata": {
  "kernelspec": {
   "display_name": "Python 3",
   "language": "python",
   "name": "python3"
  },
  "language_info": {
   "codemirror_mode": {
    "name": "ipython",
    "version": 3
   },
   "file_extension": ".py",
   "mimetype": "text/x-python",
   "name": "python",
   "nbconvert_exporter": "python",
   "pygments_lexer": "ipython3",
   "version": "3.7.3"
  }
 },
 "nbformat": 4,
 "nbformat_minor": 5
}
