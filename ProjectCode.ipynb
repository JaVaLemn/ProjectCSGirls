{
 "cells": [
  {
   "cell_type": "markdown",
   "id": "bcef8871",
   "metadata": {},
   "source": [
    "# Project Code\n",
    "\n",
    "### ProjectCSGirls 2022"
   ]
  },
  {
   "cell_type": "code",
   "execution_count": 1,
   "id": "3c9595b4",
   "metadata": {},
   "outputs": [],
   "source": [
    "##import libraries for use throughout our code\n",
    "\n",
    "from IPython.display import clear_output, display, update_display #IPython is the computing shell for our programming!\n",
    "\n",
    "import smbus #temperature\n",
    "\n",
    "#temperature and humidity\n",
    "from bme280 import BME280\n",
    "bme280 = BME280() \n",
    "\n",
    "import busio #air quality sensor\n",
    "import board #air quality sensor, buzzer, and display\n",
    "\n",
    "#Air quality sensor\n",
    "from board import *\n",
    "i2c = board.I2C() \n",
    "\n",
    "#Google Sheets\n",
    "import gspread\n",
    "from oauth2client.service_account import ServiceAccountCredentials\n",
    "from datetime import datetime\n",
    "\n",
    "#Adafruit\n",
    "import adafruit_ccs811\n",
    "from Adafruit_IO import Client, Feed, RequestError\n",
    "from dotenv import load_dotenv\n",
    "import os\n",
    "\n",
    "import time #for general use"
   ]
  },
  {
   "cell_type": "markdown",
   "id": "1c50c737",
   "metadata": {},
   "source": [
    "Google Sheets Initial Code - Kristen"
   ]
  },
  {
   "cell_type": "code",
   "execution_count": 2,
   "id": "bf34e568",
   "metadata": {},
   "outputs": [
    {
     "ename": "APIError",
     "evalue": "{'errors': [{'domain': 'usageLimits', 'reason': 'accessNotConfigured', 'message': 'Access Not Configured. Drive API has not been used in project 170905669483 before or it is disabled. Enable it by visiting https://console.developers.google.com/apis/api/drive.googleapis.com/overview?project=170905669483 then retry. If you enabled this API recently, wait a few minutes for the action to propagate to our systems and retry.', 'extendedHelp': 'https://console.developers.google.com/apis/api/drive.googleapis.com/overview?project=170905669483'}], 'code': 403, 'message': 'Access Not Configured. Drive API has not been used in project 170905669483 before or it is disabled. Enable it by visiting https://console.developers.google.com/apis/api/drive.googleapis.com/overview?project=170905669483 then retry. If you enabled this API recently, wait a few minutes for the action to propagate to our systems and retry.'}",
     "output_type": "error",
     "traceback": [
      "\u001b[0;31m---------------------------------------------------------------------------\u001b[0m",
      "\u001b[0;31mAPIError\u001b[0m                                  Traceback (most recent call last)",
      "\u001b[0;32m<ipython-input-2-0f49c6586379>\u001b[0m in \u001b[0;36m<module>\u001b[0;34m\u001b[0m\n\u001b[1;32m     15\u001b[0m \u001b[0;34m\u001b[0m\u001b[0m\n\u001b[1;32m     16\u001b[0m \u001b[0;31m# Find the workbook by name and open the first sheet\u001b[0m\u001b[0;34m\u001b[0m\u001b[0;34m\u001b[0m\u001b[0;34m\u001b[0m\u001b[0m\n\u001b[0;32m---> 17\u001b[0;31m \u001b[0msheet\u001b[0m \u001b[0;34m=\u001b[0m \u001b[0mclient\u001b[0m\u001b[0;34m.\u001b[0m\u001b[0mopen\u001b[0m\u001b[0;34m(\u001b[0m\u001b[0msheet_name\u001b[0m\u001b[0;34m)\u001b[0m\u001b[0;34m.\u001b[0m\u001b[0msheet1\u001b[0m\u001b[0;34m\u001b[0m\u001b[0;34m\u001b[0m\u001b[0m\n\u001b[0m",
      "\u001b[0;32m~/.local/lib/python3.7/site-packages/gspread/client.py\u001b[0m in \u001b[0;36mopen\u001b[0;34m(self, title)\u001b[0m\n\u001b[1;32m    120\u001b[0m             properties = finditem(\n\u001b[1;32m    121\u001b[0m                 \u001b[0;32mlambda\u001b[0m \u001b[0mx\u001b[0m\u001b[0;34m:\u001b[0m \u001b[0mx\u001b[0m\u001b[0;34m[\u001b[0m\u001b[0;34m'name'\u001b[0m\u001b[0;34m]\u001b[0m \u001b[0;34m==\u001b[0m \u001b[0mtitle\u001b[0m\u001b[0;34m,\u001b[0m\u001b[0;34m\u001b[0m\u001b[0;34m\u001b[0m\u001b[0m\n\u001b[0;32m--> 122\u001b[0;31m                 \u001b[0mself\u001b[0m\u001b[0;34m.\u001b[0m\u001b[0mlist_spreadsheet_files\u001b[0m\u001b[0;34m(\u001b[0m\u001b[0mtitle\u001b[0m\u001b[0;34m)\u001b[0m\u001b[0;34m,\u001b[0m\u001b[0;34m\u001b[0m\u001b[0;34m\u001b[0m\u001b[0m\n\u001b[0m\u001b[1;32m    123\u001b[0m             )\n\u001b[1;32m    124\u001b[0m \u001b[0;34m\u001b[0m\u001b[0m\n",
      "\u001b[0;32m~/.local/lib/python3.7/site-packages/gspread/client.py\u001b[0m in \u001b[0;36mlist_spreadsheet_files\u001b[0;34m(self, title)\u001b[0m\n\u001b[1;32m     97\u001b[0m                 \u001b[0mparams\u001b[0m\u001b[0;34m[\u001b[0m\u001b[0;34m'pageToken'\u001b[0m\u001b[0;34m]\u001b[0m \u001b[0;34m=\u001b[0m \u001b[0mpage_token\u001b[0m\u001b[0;34m\u001b[0m\u001b[0;34m\u001b[0m\u001b[0m\n\u001b[1;32m     98\u001b[0m \u001b[0;34m\u001b[0m\u001b[0m\n\u001b[0;32m---> 99\u001b[0;31m             \u001b[0mres\u001b[0m \u001b[0;34m=\u001b[0m \u001b[0mself\u001b[0m\u001b[0;34m.\u001b[0m\u001b[0mrequest\u001b[0m\u001b[0;34m(\u001b[0m\u001b[0;34m'get'\u001b[0m\u001b[0;34m,\u001b[0m \u001b[0murl\u001b[0m\u001b[0;34m,\u001b[0m \u001b[0mparams\u001b[0m\u001b[0;34m=\u001b[0m\u001b[0mparams\u001b[0m\u001b[0;34m)\u001b[0m\u001b[0;34m.\u001b[0m\u001b[0mjson\u001b[0m\u001b[0;34m(\u001b[0m\u001b[0;34m)\u001b[0m\u001b[0;34m\u001b[0m\u001b[0;34m\u001b[0m\u001b[0m\n\u001b[0m\u001b[1;32m    100\u001b[0m             \u001b[0mfiles\u001b[0m\u001b[0;34m.\u001b[0m\u001b[0mextend\u001b[0m\u001b[0;34m(\u001b[0m\u001b[0mres\u001b[0m\u001b[0;34m[\u001b[0m\u001b[0;34m'files'\u001b[0m\u001b[0;34m]\u001b[0m\u001b[0;34m)\u001b[0m\u001b[0;34m\u001b[0m\u001b[0;34m\u001b[0m\u001b[0m\n\u001b[1;32m    101\u001b[0m             \u001b[0mpage_token\u001b[0m \u001b[0;34m=\u001b[0m \u001b[0mres\u001b[0m\u001b[0;34m.\u001b[0m\u001b[0mget\u001b[0m\u001b[0;34m(\u001b[0m\u001b[0;34m'nextPageToken'\u001b[0m\u001b[0;34m,\u001b[0m \u001b[0;32mNone\u001b[0m\u001b[0;34m)\u001b[0m\u001b[0;34m\u001b[0m\u001b[0;34m\u001b[0m\u001b[0m\n",
      "\u001b[0;32m~/.local/lib/python3.7/site-packages/gspread/client.py\u001b[0m in \u001b[0;36mrequest\u001b[0;34m(self, method, endpoint, params, data, json, files, headers)\u001b[0m\n\u001b[1;32m     74\u001b[0m             \u001b[0;32mreturn\u001b[0m \u001b[0mresponse\u001b[0m\u001b[0;34m\u001b[0m\u001b[0;34m\u001b[0m\u001b[0m\n\u001b[1;32m     75\u001b[0m         \u001b[0;32melse\u001b[0m\u001b[0;34m:\u001b[0m\u001b[0;34m\u001b[0m\u001b[0;34m\u001b[0m\u001b[0m\n\u001b[0;32m---> 76\u001b[0;31m             \u001b[0;32mraise\u001b[0m \u001b[0mAPIError\u001b[0m\u001b[0;34m(\u001b[0m\u001b[0mresponse\u001b[0m\u001b[0;34m)\u001b[0m\u001b[0;34m\u001b[0m\u001b[0;34m\u001b[0m\u001b[0m\n\u001b[0m\u001b[1;32m     77\u001b[0m \u001b[0;34m\u001b[0m\u001b[0m\n\u001b[1;32m     78\u001b[0m     \u001b[0;32mdef\u001b[0m \u001b[0mlist_spreadsheet_files\u001b[0m\u001b[0;34m(\u001b[0m\u001b[0mself\u001b[0m\u001b[0;34m,\u001b[0m \u001b[0mtitle\u001b[0m\u001b[0;34m=\u001b[0m\u001b[0;32mNone\u001b[0m\u001b[0;34m)\u001b[0m\u001b[0;34m:\u001b[0m\u001b[0;34m\u001b[0m\u001b[0;34m\u001b[0m\u001b[0m\n",
      "\u001b[0;31mAPIError\u001b[0m: {'errors': [{'domain': 'usageLimits', 'reason': 'accessNotConfigured', 'message': 'Access Not Configured. Drive API has not been used in project 170905669483 before or it is disabled. Enable it by visiting https://console.developers.google.com/apis/api/drive.googleapis.com/overview?project=170905669483 then retry. If you enabled this API recently, wait a few minutes for the action to propagate to our systems and retry.', 'extendedHelp': 'https://console.developers.google.com/apis/api/drive.googleapis.com/overview?project=170905669483'}], 'code': 403, 'message': 'Access Not Configured. Drive API has not been used in project 170905669483 before or it is disabled. Enable it by visiting https://console.developers.google.com/apis/api/drive.googleapis.com/overview?project=170905669483 then retry. If you enabled this API recently, wait a few minutes for the action to propagate to our systems and retry.'}"
     ]
    }
   ],
   "source": [
    "sheet_name = \"ProjectCSGirls\"   #Define the name of our Google Sheet\n",
    "\n",
    "# use credentials to create a client that interacts with the Google Drive API *FIX THIS @ 2:30!!!*\n",
    "scopes = [\"https://www.googleapis.com/auth/drive\", \"https://www.googleapis.com/auth/drive.file\", \n",
    "          \"https://www.googleapis.com/auth/spreadsheets\"]\n",
    "creds = ServiceAccountCredentials.from_json_keyfile_name('projectcsgirls-345320-ec70b92cf651.json', scopes)\n",
    "client = gspread.authorize(creds)\n",
    "\n",
    "# Find the workbook by name and open the first sheet\n",
    "sheet = client.open(sheet_name).sheet1"
   ]
  },
  {
   "cell_type": "markdown",
   "id": "636b5fb3",
   "metadata": {},
   "source": [
    "Google Sheets Initial Code - Katie"
   ]
  },
  {
   "cell_type": "code",
   "execution_count": 6,
   "id": "50d2c475",
   "metadata": {},
   "outputs": [],
   "source": [
    "sheet_name = \"ProjectCSGirls\"   #Define the name of our Google Sheet\n",
    "\n",
    "# use credentials to create a client that interacts with the Google Drive API *FIX THIS @ 2:30!!!*\n",
    "scopes = [\"https://www.googleapis.com/auth/drive\", \"https://www.googleapis.com/auth/drive.file\", \n",
    "          \"https://www.googleapis.com/auth/spreadsheets\"]\n",
    "creds = ServiceAccountCredentials.from_json_keyfile_name('secret.json', scopes)\n",
    "client = gspread.authorize(creds)\n",
    "\n",
    "# Find the workbook by name and open the first sheet\n",
    "sheet = client.open(sheet_name).sheet1"
   ]
  },
  {
   "cell_type": "markdown",
   "id": "094b3377",
   "metadata": {},
   "source": [
    "Testing each measurement individually"
   ]
  },
  {
   "cell_type": "code",
   "execution_count": null,
   "id": "da75f57c",
   "metadata": {},
   "outputs": [],
   "source": [
    "##temperature\n",
    "\n",
    "## is it working?\n",
    "## how to print??\n",
    "\n",
    "def readTemp():\n",
    "    # By default the address of LM75A is set to 0x48\n",
    "    address = 0x48\n",
    "\n",
    "    # Read I2C data and calculate temperature\n",
    "    bus = smbus.SMBus(1)\n",
    "    raw = bus.read_word_data(address, 0) & 0xFFFF\n",
    "    raw = ((raw << 8) & 0xFF00) + (raw >> 8)\n",
    "    temperature = (raw / 32.0) / 8.0\n",
    "    return temperature"
   ]
  },
  {
   "cell_type": "code",
   "execution_count": null,
   "id": "ffa7b7e0",
   "metadata": {},
   "outputs": [],
   "source": [
    "## humidity\n",
    "h = bme280.get_humidity()\n",
    "print (h)"
   ]
  },
  {
   "cell_type": "code",
   "execution_count": null,
   "id": "6ed08f9b",
   "metadata": {},
   "outputs": [],
   "source": [
    "## CO2 and TVOC\n",
    "ccs = adafruit_ccs811.CCS811(i2c)\n",
    "print(\"CO2: \", ccs.eco2, \"TVOC:\", ccs.tvoc)"
   ]
  },
  {
   "cell_type": "markdown",
   "id": "a7f43f21",
   "metadata": {},
   "source": [
    "Adafruit Connection - Kristen"
   ]
  },
  {
   "cell_type": "code",
   "execution_count": null,
   "id": "509f37c2",
   "metadata": {},
   "outputs": [],
   "source": [
    "#Load login token from .env file\n",
    "load_dotenv()\n",
    "\n",
    "ADAFRUIT_IO_USERNAME = os.environ.get(\"ADAFRUIT_IO_USERNAME\") #Adafruit username\n",
    "ADAFRUIT_IO_KEY = os.environ.get(\"ADAFRUIT_IO_KEY\") #Adafruit password\n",
    "\n",
    "aio = Client(ADAFRUIT_IO_USERNAME, ADAFRUIT_IO_KEY)"
   ]
  },
  {
   "cell_type": "markdown",
   "id": "b433f733",
   "metadata": {},
   "source": [
    "Adafruit Connection - Katie"
   ]
  },
  {
   "cell_type": "code",
   "execution_count": 1,
   "id": "6f860cf3",
   "metadata": {},
   "outputs": [],
   "source": [
    "#Load login token from .env file\n",
    "load_dotenv()\n",
    "\n",
    "ADAFRUIT_IO_USERNAME = os.environ.get(\"ADAFRUIT_IO_USERNAME\") #Adafruit username\n",
    "ADAFRUIT_IO_KEY = os.environ.get(\"ADAFRUIT_IO_KEY\") #Adafruit password\n",
    "\n",
    "aio = Client(ADAFRUIT_IO_USERNAME, ADAFRUIT_IO_KEY)"
   ]
  },
  {
   "cell_type": "markdown",
   "id": "25676215",
   "metadata": {},
   "source": [
    "Location - Kristen"
   ]
  },
  {
   "cell_type": "code",
   "execution_count": null,
   "id": "29d316e9",
   "metadata": {},
   "outputs": [],
   "source": [
    "metadata = {'lat': 35.92948,\n",
    "            'lon': -84.1313,\n",
    "            'ele': 0,\n",
    "            'created_at':None} "
   ]
  },
  {
   "cell_type": "markdown",
   "id": "91ec2ff3",
   "metadata": {},
   "source": [
    "Location - Katie"
   ]
  },
  {
   "cell_type": "code",
   "execution_count": null,
   "id": "c931b276",
   "metadata": {},
   "outputs": [],
   "source": [
    "metadata = {\"lat\": 40.262726,\n",
    "            \"lon\": -74.94198,\n",
    "            \"ele\": 0,\n",
    "            \"created_at\": None}"
   ]
  },
  {
   "cell_type": "markdown",
   "id": "b1315644",
   "metadata": {},
   "source": [
    "Reading Adafruit feeds - Katie"
   ]
  },
  {
   "cell_type": "code",
   "execution_count": null,
   "id": "4d1db82b",
   "metadata": {},
   "outputs": [],
   "source": [
    "exterFeedB = aio.feeds(\"external\")\n",
    "humidFeedB = aio.feeds(\"humidity\")\n",
    "co2FeedB = aio.feeds(\"co2\")\n",
    "tvocFeedB = aio.feeds(\"tvoc\")"
   ]
  },
  {
   "cell_type": "markdown",
   "id": "4fe8d767",
   "metadata": {},
   "source": [
    "Reading Adafruit feeds - Kristen"
   ]
  },
  {
   "cell_type": "code",
   "execution_count": null,
   "id": "179c9a31",
   "metadata": {},
   "outputs": [],
   "source": [
    "exterFeedM = aio.feeds(\"externaltemperature\")\n",
    "humidFeedM = aio.feeds(\"humidity\")\n",
    "co2FeedM = aio.feeds(\"co2\")\n",
    "tvocFeedM = aio.feesd(\"tvoc\")"
   ]
  },
  {
   "cell_type": "markdown",
   "id": "d12fc040",
   "metadata": {},
   "source": [
    "Main Loop - Katie"
   ]
  },
  {
   "cell_type": "code",
   "execution_count": null,
   "id": "be2a7f28",
   "metadata": {},
   "outputs": [],
   "source": [
    "while true:\n",
    "    #define letter variables\n",
    "    tB = bme280.get_temperature()\n",
    "    eB = tB * (9./5.) +32 \n",
    "    hB = bme280.get_humidity()\n",
    "    co2B = ccs.eco2\n",
    "    tvocB = ccs.tvoc\n",
    "    \n",
    "    #send data to Adafruit feeds\n",
    "    aio.send_data(exterFeed.key, eB, metadata)\n",
    "    aio.send_data(humidFeed.key, hB, metadata)\n",
    "    aio.send_data(co2Feed.key, co2B, metadata)\n",
    "    aio.send_data(tvocFeed.key, tvocB, metadata)\n",
    "    \n",
    "    #send and print data on the Google Sheet\n",
    "    now=datetime.now()\n",
    "    now_time = now.strftime(\"%H:%M:%S\")\n",
    "    now_day = now.strftime(\"%m/%d/%Y\")\n",
    "    row=[now_day, now_time, eB, hB, co2B, tvocB]\n",
    "    sheet.append_row(row)\n",
    "    \n",
    "    #print data in Jupyter Notebooks (below)\n",
    "    print(eB, \":°Fahrenheit|\")\n",
    "    print(hB, \":% Humidity|\")\n",
    "    print(co2B, \": PPM (CO2)|\")\n",
    "    print(tvocB, \":PPB (TVOC)|\")\n",
    "    print()\n",
    "    \n",
    "    #wait a certain amount of time\n",
    "    time.sleep(60)"
   ]
  },
  {
   "cell_type": "markdown",
   "id": "97c6c0b6",
   "metadata": {},
   "source": [
    "Main Loop - Kristen"
   ]
  },
  {
   "cell_type": "code",
   "execution_count": null,
   "id": "8962f3f9",
   "metadata": {},
   "outputs": [],
   "source": [
    "while true:\n",
    "    #define letter variables\n",
    "    tM = bme280.get_temperature()\n",
    "    eM = tB * (9./5.) +32 \n",
    "    hM = bme280.get_humidity()\n",
    "    co2M = ccs.eco2\n",
    "    tvocM = ccs.tvoc\n",
    "    \n",
    "    #send data to Adafruit feeds\n",
    "    aio.send_data(exterFeed.key, eM, metadata)\n",
    "    aio.send_data(humidFeed.key, hM, metadata)\n",
    "    aio.send_data(co2Feed.key, co2M, metadata)\n",
    "    aio.send_data(tvocFeed.key, tvocM, metadata)\n",
    "    \n",
    "    #send and print data on the Google Sheet\n",
    "    now=datetime.now()\n",
    "    now_time = now.strftime(\"%H:%M:%S\")\n",
    "    now_day = now.strftime(\"%m/%d/%Y\")\n",
    "    row=[now_day, now_time, eM, hM, co2M, tvocM]\n",
    "    sheet.append_row(row)\n",
    "    \n",
    "    #print data in Jupyter Notebooks (below)\n",
    "    print(eM, \":°Fahrenheit|\")\n",
    "    print(hM, \":% Humidity|\")\n",
    "    print(co2M, \": PPM (CO2)|\")\n",
    "    print(tvocM, \":PPB (TVOC)|\")\n",
    "    print()\n",
    "    \n",
    "    #wait a certain amount of time\n",
    "    time.sleep(60)"
   ]
  }
 ],
 "metadata": {
  "kernelspec": {
   "display_name": "Python 3",
   "language": "python",
   "name": "python3"
  },
  "language_info": {
   "codemirror_mode": {
    "name": "ipython",
    "version": 3
   },
   "file_extension": ".py",
   "mimetype": "text/x-python",
   "name": "python",
   "nbconvert_exporter": "python",
   "pygments_lexer": "ipython3",
   "version": "3.7.3"
  }
 },
 "nbformat": 4,
 "nbformat_minor": 5
}
