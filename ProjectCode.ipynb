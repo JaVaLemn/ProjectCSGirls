{
 "cells": [
  {
   "cell_type": "markdown",
   "id": "8ee7bb65",
   "metadata": {},
   "source": [
    "# Project Code\n",
    "\n",
    "### ProjectCSGirls 2022"
   ]
  },
  {
   "cell_type": "code",
   "execution_count": 1,
   "id": "82f734b7",
   "metadata": {},
   "outputs": [],
   "source": [
    "##import all of the things needed for the project code\n",
    "\n",
    "import ST7735\n",
    "from PIL import Image, ImageDraw\n",
    "\n",
    "from IPython.display import clear_output, display, update_display\n",
    "import smbus\n",
    "\n",
    "import time\n",
    "\n",
    "from bme280 import BME280\n",
    "bme280 = BME280()\n",
    "import busio\n",
    "import board\n",
    "import adafruit_ccs811\n",
    "\n",
    "from board import *\n",
    "i2c = board.I2C() \n",
    "\n",
    "import time\n",
    "from datetime import datetime"
   ]
  },
  {
   "cell_type": "markdown",
   "id": "e2406c0e",
   "metadata": {},
   "source": [
    "Google Sheets Initial Code"
   ]
  },
  {
   "cell_type": "code",
   "execution_count": 14,
   "id": "b3cce7a5",
   "metadata": {},
   "outputs": [
    {
     "ename": "APIError",
     "evalue": "{'errors': [{'domain': 'usageLimits', 'reason': 'accessNotConfigured', 'message': 'Access Not Configured. Drive API has not been used in project 170905669483 before or it is disabled. Enable it by visiting https://console.developers.google.com/apis/api/drive.googleapis.com/overview?project=170905669483 then retry. If you enabled this API recently, wait a few minutes for the action to propagate to our systems and retry.', 'extendedHelp': 'https://console.developers.google.com/apis/api/drive.googleapis.com/overview?project=170905669483'}], 'code': 403, 'message': 'Access Not Configured. Drive API has not been used in project 170905669483 before or it is disabled. Enable it by visiting https://console.developers.google.com/apis/api/drive.googleapis.com/overview?project=170905669483 then retry. If you enabled this API recently, wait a few minutes for the action to propagate to our systems and retry.'}",
     "output_type": "error",
     "traceback": [
      "\u001b[0;31m---------------------------------------------------------------------------\u001b[0m",
      "\u001b[0;31mAPIError\u001b[0m                                  Traceback (most recent call last)",
      "\u001b[0;32m<ipython-input-14-6783d8eec55e>\u001b[0m in \u001b[0;36m<module>\u001b[0;34m\u001b[0m\n\u001b[1;32m     12\u001b[0m \u001b[0;34m\u001b[0m\u001b[0m\n\u001b[1;32m     13\u001b[0m \u001b[0;31m# Find the workbook by name and open the first sheet\u001b[0m\u001b[0;34m\u001b[0m\u001b[0;34m\u001b[0m\u001b[0;34m\u001b[0m\u001b[0m\n\u001b[0;32m---> 14\u001b[0;31m \u001b[0msheet\u001b[0m \u001b[0;34m=\u001b[0m \u001b[0mclient\u001b[0m\u001b[0;34m.\u001b[0m\u001b[0mopen\u001b[0m\u001b[0;34m(\u001b[0m\u001b[0msheet_name\u001b[0m\u001b[0;34m)\u001b[0m\u001b[0;34m.\u001b[0m\u001b[0msheet1\u001b[0m\u001b[0;34m\u001b[0m\u001b[0;34m\u001b[0m\u001b[0m\n\u001b[0m",
      "\u001b[0;32m~/.local/lib/python3.7/site-packages/gspread/client.py\u001b[0m in \u001b[0;36mopen\u001b[0;34m(self, title)\u001b[0m\n\u001b[1;32m    120\u001b[0m             properties = finditem(\n\u001b[1;32m    121\u001b[0m                 \u001b[0;32mlambda\u001b[0m \u001b[0mx\u001b[0m\u001b[0;34m:\u001b[0m \u001b[0mx\u001b[0m\u001b[0;34m[\u001b[0m\u001b[0;34m'name'\u001b[0m\u001b[0;34m]\u001b[0m \u001b[0;34m==\u001b[0m \u001b[0mtitle\u001b[0m\u001b[0;34m,\u001b[0m\u001b[0;34m\u001b[0m\u001b[0;34m\u001b[0m\u001b[0m\n\u001b[0;32m--> 122\u001b[0;31m                 \u001b[0mself\u001b[0m\u001b[0;34m.\u001b[0m\u001b[0mlist_spreadsheet_files\u001b[0m\u001b[0;34m(\u001b[0m\u001b[0mtitle\u001b[0m\u001b[0;34m)\u001b[0m\u001b[0;34m,\u001b[0m\u001b[0;34m\u001b[0m\u001b[0;34m\u001b[0m\u001b[0m\n\u001b[0m\u001b[1;32m    123\u001b[0m             )\n\u001b[1;32m    124\u001b[0m \u001b[0;34m\u001b[0m\u001b[0m\n",
      "\u001b[0;32m~/.local/lib/python3.7/site-packages/gspread/client.py\u001b[0m in \u001b[0;36mlist_spreadsheet_files\u001b[0;34m(self, title)\u001b[0m\n\u001b[1;32m     97\u001b[0m                 \u001b[0mparams\u001b[0m\u001b[0;34m[\u001b[0m\u001b[0;34m'pageToken'\u001b[0m\u001b[0;34m]\u001b[0m \u001b[0;34m=\u001b[0m \u001b[0mpage_token\u001b[0m\u001b[0;34m\u001b[0m\u001b[0;34m\u001b[0m\u001b[0m\n\u001b[1;32m     98\u001b[0m \u001b[0;34m\u001b[0m\u001b[0m\n\u001b[0;32m---> 99\u001b[0;31m             \u001b[0mres\u001b[0m \u001b[0;34m=\u001b[0m \u001b[0mself\u001b[0m\u001b[0;34m.\u001b[0m\u001b[0mrequest\u001b[0m\u001b[0;34m(\u001b[0m\u001b[0;34m'get'\u001b[0m\u001b[0;34m,\u001b[0m \u001b[0murl\u001b[0m\u001b[0;34m,\u001b[0m \u001b[0mparams\u001b[0m\u001b[0;34m=\u001b[0m\u001b[0mparams\u001b[0m\u001b[0;34m)\u001b[0m\u001b[0;34m.\u001b[0m\u001b[0mjson\u001b[0m\u001b[0;34m(\u001b[0m\u001b[0;34m)\u001b[0m\u001b[0;34m\u001b[0m\u001b[0;34m\u001b[0m\u001b[0m\n\u001b[0m\u001b[1;32m    100\u001b[0m             \u001b[0mfiles\u001b[0m\u001b[0;34m.\u001b[0m\u001b[0mextend\u001b[0m\u001b[0;34m(\u001b[0m\u001b[0mres\u001b[0m\u001b[0;34m[\u001b[0m\u001b[0;34m'files'\u001b[0m\u001b[0;34m]\u001b[0m\u001b[0;34m)\u001b[0m\u001b[0;34m\u001b[0m\u001b[0;34m\u001b[0m\u001b[0m\n\u001b[1;32m    101\u001b[0m             \u001b[0mpage_token\u001b[0m \u001b[0;34m=\u001b[0m \u001b[0mres\u001b[0m\u001b[0;34m.\u001b[0m\u001b[0mget\u001b[0m\u001b[0;34m(\u001b[0m\u001b[0;34m'nextPageToken'\u001b[0m\u001b[0;34m,\u001b[0m \u001b[0;32mNone\u001b[0m\u001b[0;34m)\u001b[0m\u001b[0;34m\u001b[0m\u001b[0;34m\u001b[0m\u001b[0m\n",
      "\u001b[0;32m~/.local/lib/python3.7/site-packages/gspread/client.py\u001b[0m in \u001b[0;36mrequest\u001b[0;34m(self, method, endpoint, params, data, json, files, headers)\u001b[0m\n\u001b[1;32m     74\u001b[0m             \u001b[0;32mreturn\u001b[0m \u001b[0mresponse\u001b[0m\u001b[0;34m\u001b[0m\u001b[0;34m\u001b[0m\u001b[0m\n\u001b[1;32m     75\u001b[0m         \u001b[0;32melse\u001b[0m\u001b[0;34m:\u001b[0m\u001b[0;34m\u001b[0m\u001b[0;34m\u001b[0m\u001b[0m\n\u001b[0;32m---> 76\u001b[0;31m             \u001b[0;32mraise\u001b[0m \u001b[0mAPIError\u001b[0m\u001b[0;34m(\u001b[0m\u001b[0mresponse\u001b[0m\u001b[0;34m)\u001b[0m\u001b[0;34m\u001b[0m\u001b[0;34m\u001b[0m\u001b[0m\n\u001b[0m\u001b[1;32m     77\u001b[0m \u001b[0;34m\u001b[0m\u001b[0m\n\u001b[1;32m     78\u001b[0m     \u001b[0;32mdef\u001b[0m \u001b[0mlist_spreadsheet_files\u001b[0m\u001b[0;34m(\u001b[0m\u001b[0mself\u001b[0m\u001b[0;34m,\u001b[0m \u001b[0mtitle\u001b[0m\u001b[0;34m=\u001b[0m\u001b[0;32mNone\u001b[0m\u001b[0;34m)\u001b[0m\u001b[0;34m:\u001b[0m\u001b[0;34m\u001b[0m\u001b[0;34m\u001b[0m\u001b[0m\n",
      "\u001b[0;31mAPIError\u001b[0m: {'errors': [{'domain': 'usageLimits', 'reason': 'accessNotConfigured', 'message': 'Access Not Configured. Drive API has not been used in project 170905669483 before or it is disabled. Enable it by visiting https://console.developers.google.com/apis/api/drive.googleapis.com/overview?project=170905669483 then retry. If you enabled this API recently, wait a few minutes for the action to propagate to our systems and retry.', 'extendedHelp': 'https://console.developers.google.com/apis/api/drive.googleapis.com/overview?project=170905669483'}], 'code': 403, 'message': 'Access Not Configured. Drive API has not been used in project 170905669483 before or it is disabled. Enable it by visiting https://console.developers.google.com/apis/api/drive.googleapis.com/overview?project=170905669483 then retry. If you enabled this API recently, wait a few minutes for the action to propagate to our systems and retry.'}"
     ]
    }
   ],
   "source": [
    "## import the things necessary for Google Sheets in particular\n",
    "import gspread\n",
    "from oauth2client.service_account import ServiceAccountCredentials\n",
    "\n",
    "sheet_name = \"ProjectCSGirls\"   # Make sure this matches your Google sheet name\n",
    "\n",
    "# use creds to create a client to interact with the Google Drive API\n",
    "scopes = [\"https://www.googleapis.com/auth/drive\", \"https://www.googleapis.com/auth/drive.file\", \n",
    "          \"https://www.googleapis.com/auth/spreadsheets\"]\n",
    "creds = ServiceAccountCredentials.from_json_keyfile_name('projectcsgirls-345320-ec70b92cf651.json', scopes)\n",
    "client = gspread.authorize(creds)\n",
    "\n",
    "# Find the workbook by name and open the first sheet\n",
    "sheet = client.open(sheet_name).sheet1"
   ]
  },
  {
   "cell_type": "markdown",
   "id": "6570e1fe",
   "metadata": {},
   "source": [
    "Testing each measurement individually"
   ]
  },
  {
   "cell_type": "code",
   "execution_count": 11,
   "id": "20824d19",
   "metadata": {},
   "outputs": [],
   "source": [
    "##temperature\n",
    "\n",
    "## is it working?\n",
    "## how to print??\n",
    "\n",
    "def readTemp():\n",
    "    # By default the address of LM75A is set to 0x48\n",
    "    address = 0x48\n",
    "\n",
    "    # Read I2C data and calculate temperature\n",
    "    bus = smbus.SMBus(1)\n",
    "    raw = bus.read_word_data(address, 0) & 0xFFFF\n",
    "    raw = ((raw << 8) & 0xFF00) + (raw >> 8)\n",
    "    temperature = (raw / 32.0) / 8.0\n",
    "    return temperature"
   ]
  },
  {
   "cell_type": "code",
   "execution_count": 10,
   "id": "41d46e28",
   "metadata": {},
   "outputs": [
    {
     "name": "stdout",
     "output_type": "stream",
     "text": [
      "23.50598525775839\n"
     ]
    }
   ],
   "source": [
    "## humidity\n",
    "\n",
    "h = bme280.get_humidity()\n",
    "print (h)"
   ]
  },
  {
   "cell_type": "code",
   "execution_count": 6,
   "id": "ff6ab30f",
   "metadata": {},
   "outputs": [
    {
     "name": "stdout",
     "output_type": "stream",
     "text": [
      "CO2:  0 TVOC: 0\n"
     ]
    }
   ],
   "source": [
    "## CO2 and TVOC\n",
    "\n",
    "ccs = adafruit_ccs811.CCS811(i2c)\n",
    "\n",
    "print(\"CO2: \", ccs.eco2, \"TVOC:\", ccs.tvoc)"
   ]
  },
  {
   "cell_type": "code",
   "execution_count": null,
   "id": "25f95a3f",
   "metadata": {},
   "outputs": [],
   "source": []
  }
 ],
 "metadata": {
  "kernelspec": {
   "display_name": "Python 3",
   "language": "python",
   "name": "python3"
  },
  "language_info": {
   "codemirror_mode": {
    "name": "ipython",
    "version": 3
   },
   "file_extension": ".py",
   "mimetype": "text/x-python",
   "name": "python",
   "nbconvert_exporter": "python",
   "pygments_lexer": "ipython3",
   "version": "3.7.3"
  }
 },
 "nbformat": 4,
 "nbformat_minor": 5
}
